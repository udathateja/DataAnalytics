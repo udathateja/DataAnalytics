{
 "cells": [
  {
   "cell_type": "code",
   "execution_count": 1,
   "metadata": {},
   "outputs": [],
   "source": [
    "import numpy as np"
   ]
  },
  {
   "cell_type": "markdown",
   "metadata": {},
   "source": [
    "##### Problem 1:  Find the peak or max in a list"
   ]
  },
  {
   "cell_type": "code",
   "execution_count": 2,
   "metadata": {},
   "outputs": [
    {
     "name": "stdout",
     "output_type": "stream",
     "text": [
      "[11, 12, 13, 14, 18, 16, 15, 13, 20, 5]\n"
     ]
    }
   ],
   "source": [
    "A = [11,12,13,14,18,16,15,13,20,5]\n",
    "print(A)"
   ]
  },
  {
   "cell_type": "code",
   "execution_count": 3,
   "metadata": {},
   "outputs": [
    {
     "name": "stdout",
     "output_type": "stream",
     "text": [
      "18\n",
      "20\n"
     ]
    }
   ],
   "source": [
    "# we can see there are peak at 18 and 20\n",
    "# Now come to the logic\n",
    "# A[i-1] <= A[i] >= A[i+1]\n",
    "\n",
    "for i in range(1,len(A)-1):  ### 1 and -1 are important\n",
    "    if A[i-1]<=A[i] and A[i]>= A[i+1]:\n",
    "        print(A[i])"
   ]
  },
  {
   "cell_type": "code",
   "execution_count": 4,
   "metadata": {},
   "outputs": [
    {
     "name": "stdout",
     "output_type": "stream",
     "text": [
      "18\n",
      "20\n"
     ]
    }
   ],
   "source": [
    "## there is any bug or logically issue in the above case or did we miss anything to make it more perfect\n",
    "## Lets think if we add 2 more value in the above list and new list like below\n",
    "A = [14,11,12,13,14,18,16,15,13,20,5,8]\n",
    "\n",
    "for i in range(1,len(A)-1):  ### 1 and -1 are important\n",
    "    if A[i-1]<=A[i] and A[i]>= A[i+1]:\n",
    "        print(A[i])"
   ]
  },
  {
   "cell_type": "markdown",
   "metadata": {},
   "source": [
    "Now did we get any issue in above result\n",
    "Yes, if you see we have peak value like 14,18,20,8  (Its means our logic missed the boundary cases)\n",
    "If we don't include these boundary cases then it may be very risky to deploy this code on production\n",
    "and even some time it may crash your system."
   ]
  },
  {
   "cell_type": "code",
   "execution_count": 10,
   "metadata": {},
   "outputs": [
    {
     "name": "stdout",
     "output_type": "stream",
     "text": [
      "14\n",
      "18\n",
      "20\n",
      "8\n"
     ]
    }
   ],
   "source": [
    "A = [14,11,12,13,14,18,16,15,13,20,5,8]\n",
    "\n",
    "if A[0]>=A[1]:  ### including index 0 case\n",
    "    print(A[0])\n",
    "    \n",
    "for i in range(1,len(A)-1):  ### 1 and -1 are important\n",
    "    if A[i-1]<=A[i] and A[i]>= A[i+1]:\n",
    "        print(A[i])\n",
    "        \n",
    "if A[len(A)-1]>=A[len(A)-2]:  ### including index 0 case\n",
    "    print(A[len(A)-1])"
   ]
  },
  {
   "cell_type": "code",
   "execution_count": 6,
   "metadata": {},
   "outputs": [],
   "source": [
    "# Time complexity : O(n)"
   ]
  },
  {
   "cell_type": "markdown",
   "metadata": {},
   "source": [
    "##### Problem 2:  Find the peak or max value ,which are max value in a windows of size 2 on both side "
   ]
  },
  {
   "cell_type": "code",
   "execution_count": 13,
   "metadata": {},
   "outputs": [
    {
     "name": "stdout",
     "output_type": "stream",
     "text": [
      "14\n",
      "18\n",
      "16\n",
      "20\n"
     ]
    }
   ],
   "source": [
    "# Note in the above example we compare window size using and here we have to use windows size 2\n",
    "# we also consider the boundary condition in our logic\n",
    "\n",
    "A = [14,11,12,13,14,18,16,15,13,20,5,8]\n",
    "\n",
    "#############\n",
    "\n",
    "if A[0] >= A[2]:\n",
    "    print(A[0])\n",
    "\n",
    "for i in range(1, len(A)-1):\n",
    "    if A[i] >= A[i-2] and A[i] >= A[i+2]:\n",
    "        print(A[i])\n",
    "\n",
    "if A[len(A)-1] >= A[len(A)-3]:\n",
    "    print(A[len(A)-1])\n"
   ]
  },
  {
   "cell_type": "code",
   "execution_count": null,
   "metadata": {},
   "outputs": [],
   "source": []
  }
 ],
 "metadata": {
  "kernelspec": {
   "display_name": "Python 3",
   "language": "python",
   "name": "python3"
  },
  "language_info": {
   "codemirror_mode": {
    "name": "ipython",
    "version": 3
   },
   "file_extension": ".py",
   "mimetype": "text/x-python",
   "name": "python",
   "nbconvert_exporter": "python",
   "pygments_lexer": "ipython3",
   "version": "3.7.6"
  }
 },
 "nbformat": 4,
 "nbformat_minor": 2
}
