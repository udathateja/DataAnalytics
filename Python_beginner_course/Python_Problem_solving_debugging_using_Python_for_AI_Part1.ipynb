{
 "cells": [
  {
   "cell_type": "markdown",
   "metadata": {},
   "source": [
    "###  How to solve basic Python Problems and what are the common errors we face"
   ]
  },
  {
   "cell_type": "markdown",
   "metadata": {},
   "source": [
    "You need to follow the below main points to become a good programmer"
   ]
  },
  {
   "cell_type": "markdown",
   "metadata": {},
   "source": [
    "   - Break a problem into a smaller sub-problems\n",
    "   - Trying to find the logic and try to connect them from sub problem\n",
    "   - After completing sub-problems then putting them all together\n",
    "   - More Focus of common error and mistakes and always reading function referneces and focus on fixting the bugs\n",
    "   - Try to do more and more practice.\n",
    "   - Try to Introduce new concepts as we need.\n",
    "   - During beginning you have to do more focus of self placed code and try to see other codes but always write self.\n",
    "   - As you become more and more good in self written program after that you can use others code to save your time."
   ]
  },
  {
   "cell_type": "markdown",
   "metadata": {},
   "source": [
    "#### Problem1- Add two randomly generated Numpy matrics using loop"
   ]
  },
  {
   "cell_type": "code",
   "execution_count": 1,
   "metadata": {},
   "outputs": [
    {
     "name": "stdout",
     "output_type": "stream",
     "text": [
      "[[3.07663063e-01 8.80558774e-01 3.32803421e-02 7.56220722e-02]\n",
      " [8.32056304e-01 7.58552918e-01 5.55077282e-01 7.98087797e-02]\n",
      " [9.22900315e-01 8.19686996e-01 8.36227641e-01 6.86522544e-01]\n",
      " [8.99110073e-01 8.09299457e-01 2.64715416e-02 3.66959439e-01]\n",
      " [1.11467059e-01 3.34172177e-01 2.71474242e-04 1.05321205e-01]]\n"
     ]
    }
   ],
   "source": [
    "# Create random matrix AI of sixe 5x4\n",
    "import numpy as np\n",
    "A1 = np.random.rand(5,4)\n",
    "print(A1) ## Always try to print theoutput to check what you were thinking that is same or not."
   ]
  },
  {
   "cell_type": "code",
   "execution_count": 2,
   "metadata": {},
   "outputs": [
    {
     "name": "stdout",
     "output_type": "stream",
     "text": [
      "(5, 4)\n",
      "<class 'numpy.ndarray'>\n"
     ]
    }
   ],
   "source": [
    "print(A1.shape)  ### It return a tuple of integers\n",
    "print(type(A1))"
   ]
  },
  {
   "cell_type": "code",
   "execution_count": 3,
   "metadata": {},
   "outputs": [
    {
     "ename": "AttributeError",
     "evalue": "'numpy.ndarray' object has no attribute 'type'",
     "output_type": "error",
     "traceback": [
      "\u001b[1;31m---------------------------------------------------------------------------\u001b[0m",
      "\u001b[1;31mAttributeError\u001b[0m                            Traceback (most recent call last)",
      "\u001b[1;32m<ipython-input-3-bd1834f4aa17>\u001b[0m in \u001b[0;36m<module>\u001b[1;34m\u001b[0m\n\u001b[0;32m      1\u001b[0m \u001b[1;31m# common error whilke using type and shape\u001b[0m\u001b[1;33m\u001b[0m\u001b[1;33m\u001b[0m\u001b[1;33m\u001b[0m\u001b[0m\n\u001b[1;32m----> 2\u001b[1;33m \u001b[0mprint\u001b[0m\u001b[1;33m(\u001b[0m\u001b[0mA1\u001b[0m\u001b[1;33m.\u001b[0m\u001b[0mtype\u001b[0m\u001b[1;33m)\u001b[0m\u001b[1;33m\u001b[0m\u001b[1;33m\u001b[0m\u001b[0m\n\u001b[0m\u001b[0;32m      3\u001b[0m \u001b[1;31m# from the error you can clearly see that array (AI) has no attribute like \"type\"-\u001b[0m\u001b[1;33m\u001b[0m\u001b[1;33m\u001b[0m\u001b[1;33m\u001b[0m\u001b[0m\n\u001b[0;32m      4\u001b[0m \u001b[1;31m# Please refer python numpy type doc\u001b[0m\u001b[1;33m\u001b[0m\u001b[1;33m\u001b[0m\u001b[1;33m\u001b[0m\u001b[0m\n",
      "\u001b[1;31mAttributeError\u001b[0m: 'numpy.ndarray' object has no attribute 'type'"
     ]
    }
   ],
   "source": [
    "# common error whilke using type and shape\n",
    "print(A1.type)\n",
    "# from the error you can clearly see that array (AI) has no attribute like \"type\"- \n",
    "# Please refer python numpy type doc"
   ]
  },
  {
   "cell_type": "code",
   "execution_count": 4,
   "metadata": {},
   "outputs": [
    {
     "ename": "TypeError",
     "evalue": "'tuple' object is not callable",
     "output_type": "error",
     "traceback": [
      "\u001b[1;31m---------------------------------------------------------------------------\u001b[0m",
      "\u001b[1;31mTypeError\u001b[0m                                 Traceback (most recent call last)",
      "\u001b[1;32m<ipython-input-4-4e6de138352f>\u001b[0m in \u001b[0;36m<module>\u001b[1;34m\u001b[0m\n\u001b[0;32m      1\u001b[0m \u001b[1;31m# common error whilke using type and shape\u001b[0m\u001b[1;33m\u001b[0m\u001b[1;33m\u001b[0m\u001b[1;33m\u001b[0m\u001b[0m\n\u001b[1;32m----> 2\u001b[1;33m \u001b[0mprint\u001b[0m\u001b[1;33m(\u001b[0m\u001b[0mA1\u001b[0m\u001b[1;33m.\u001b[0m\u001b[0mshape\u001b[0m\u001b[1;33m(\u001b[0m\u001b[1;33m)\u001b[0m\u001b[1;33m)\u001b[0m\u001b[1;33m\u001b[0m\u001b[1;33m\u001b[0m\u001b[0m\n\u001b[0m\u001b[0;32m      3\u001b[0m \u001b[1;31m# you can see that 'tuple' object is not callable. What we normally call like function of methods\u001b[0m\u001b[1;33m\u001b[0m\u001b[1;33m\u001b[0m\u001b[1;33m\u001b[0m\u001b[0m\n\u001b[0;32m      4\u001b[0m \u001b[1;31m# but what is the output of A1.shape as per document is tuple of integer(5,4) so tuple is not a function thats why\u001b[0m\u001b[1;33m\u001b[0m\u001b[1;33m\u001b[0m\u001b[1;33m\u001b[0m\u001b[0m\n\u001b[0;32m      5\u001b[0m \u001b[1;31m# we are getting error that 'tuple' object is not callable\u001b[0m\u001b[1;33m\u001b[0m\u001b[1;33m\u001b[0m\u001b[1;33m\u001b[0m\u001b[0m\n",
      "\u001b[1;31mTypeError\u001b[0m: 'tuple' object is not callable"
     ]
    }
   ],
   "source": [
    "# common error whilke using type and shape\n",
    "print(A1.shape())\n",
    "# you can see that 'tuple' object is not callable. What we normally call like function of methods\n",
    "# but what is the output of A1.shape as per document is tuple of integer(5,4) so tuple is not a function thats why \n",
    "# we are getting error that 'tuple' object is not callable"
   ]
  },
  {
   "cell_type": "code",
   "execution_count": 5,
   "metadata": {},
   "outputs": [
    {
     "name": "stdout",
     "output_type": "stream",
     "text": [
      "[[0.06604307 0.66724437 0.58918478 0.59010481]\n",
      " [0.51253517 0.32564438 0.84213962 0.16862697]\n",
      " [0.25824264 0.39145179 0.77202171 0.13528329]\n",
      " [0.3514634  0.07028182 0.00353917 0.62966624]\n",
      " [0.59826791 0.6188575  0.93139574 0.90943783]]\n",
      "<class 'numpy.ndarray'>\n",
      "(5, 4)\n"
     ]
    }
   ],
   "source": [
    "# Create random matrix A2 of sixe 5x4\n",
    "A2 = np.random.rand(5,4)\n",
    "print(A2)\n",
    "print(type(A2))\n",
    "print(A2.shape)"
   ]
  },
  {
   "cell_type": "code",
   "execution_count": 6,
   "metadata": {},
   "outputs": [
    {
     "name": "stdout",
     "output_type": "stream",
     "text": [
      "0.13528329097503744\n"
     ]
    }
   ],
   "source": [
    "# While accessing the element of ndarray (e.g. A2)\n",
    "# lets what is value of i,j th element in the ndarray A2 ===  print(A2[i,j])\n",
    "print(A2[2,3])"
   ]
  },
  {
   "cell_type": "code",
   "execution_count": 7,
   "metadata": {},
   "outputs": [
    {
     "ename": "TypeError",
     "evalue": "'numpy.ndarray' object is not callable",
     "output_type": "error",
     "traceback": [
      "\u001b[1;31m---------------------------------------------------------------------------\u001b[0m",
      "\u001b[1;31mTypeError\u001b[0m                                 Traceback (most recent call last)",
      "\u001b[1;32m<ipython-input-7-61e0fbc11076>\u001b[0m in \u001b[0;36m<module>\u001b[1;34m\u001b[0m\n\u001b[0;32m      1\u001b[0m \u001b[1;31m## common error\u001b[0m\u001b[1;33m\u001b[0m\u001b[1;33m\u001b[0m\u001b[1;33m\u001b[0m\u001b[0m\n\u001b[1;32m----> 2\u001b[1;33m \u001b[0mprint\u001b[0m\u001b[1;33m(\u001b[0m\u001b[0mA2\u001b[0m\u001b[1;33m(\u001b[0m\u001b[1;36m2\u001b[0m\u001b[1;33m,\u001b[0m\u001b[1;36m3\u001b[0m\u001b[1;33m)\u001b[0m\u001b[1;33m)\u001b[0m  \u001b[1;31m## A2 is a nd array so we can not call () this\u001b[0m\u001b[1;33m\u001b[0m\u001b[1;33m\u001b[0m\u001b[0m\n\u001b[0m",
      "\u001b[1;31mTypeError\u001b[0m: 'numpy.ndarray' object is not callable"
     ]
    }
   ],
   "source": [
    "## common error\n",
    "print(A2(2,3))  ## A2 is a nd array so we can not call () this"
   ]
  },
  {
   "cell_type": "code",
   "execution_count": 8,
   "metadata": {},
   "outputs": [
    {
     "name": "stdout",
     "output_type": "stream",
     "text": [
      "[[0.37370613 1.54780314 0.62246512 0.66572688]\n",
      " [1.34459147 1.0841973  1.3972169  0.24843575]\n",
      " [1.18114295 1.21113879 1.60824935 0.82180583]\n",
      " [1.25057348 0.87958127 0.03001071 0.99662568]\n",
      " [0.70973497 0.95302967 0.93166722 1.01475904]]\n",
      "<class 'numpy.ndarray'>\n",
      "(5, 4)\n"
     ]
    }
   ],
   "source": [
    "## Add numpy nd array using operator +\n",
    "B = A1 + A2\n",
    "print(B)\n",
    "print(type(B))\n",
    "print(A2.shape)"
   ]
  },
  {
   "cell_type": "code",
   "execution_count": 9,
   "metadata": {},
   "outputs": [
    {
     "data": {
      "text/plain": [
       "(5, 4)"
      ]
     },
     "execution_count": 9,
     "metadata": {},
     "output_type": "execute_result"
    }
   ],
   "source": [
    "# A1.shape  == output is a tuple of interger like (5,4)\n",
    "(r,c) = A1.shape\n",
    "(r,c)"
   ]
  },
  {
   "cell_type": "code",
   "execution_count": 10,
   "metadata": {},
   "outputs": [
    {
     "name": "stdout",
     "output_type": "stream",
     "text": [
      "[[0.37370613 1.54780314 0.62246512 0.66572688]\n",
      " [1.34459147 1.0841973  1.3972169  0.24843575]\n",
      " [1.18114295 1.21113879 1.60824935 0.82180583]\n",
      " [1.25057348 0.87958127 0.03001071 0.99662568]\n",
      " [0.70973497 0.95302967 0.93166722 1.01475904]]\n"
     ]
    }
   ],
   "source": [
    "for i in range(r):\n",
    "    for j in range(c):\n",
    "        B[i,j] = A1[i,j] + A2[i,j]\n",
    "print(B)"
   ]
  },
  {
   "cell_type": "code",
   "execution_count": 11,
   "metadata": {},
   "outputs": [
    {
     "data": {
      "text/plain": [
       "range(0, 5)"
      ]
     },
     "execution_count": 11,
     "metadata": {},
     "output_type": "execute_result"
    }
   ],
   "source": [
    "range(r)"
   ]
  },
  {
   "cell_type": "code",
   "execution_count": 12,
   "metadata": {},
   "outputs": [
    {
     "data": {
      "text/plain": [
       "range(0, 4)"
      ]
     },
     "execution_count": 12,
     "metadata": {},
     "output_type": "execute_result"
    }
   ],
   "source": [
    "range(c)"
   ]
  },
  {
   "cell_type": "code",
   "execution_count": 13,
   "metadata": {},
   "outputs": [],
   "source": [
    "# Optomization : Pre allocated matrix B12\n",
    "# in the above eg size of the B12 is getting change on each iteration within the loop and if we have very large\n",
    "# matrix than it will consume lots of memory\n",
    "#  so better to pre assign B12\n",
    "# create mAtrix B with all Zeros. Once we assign B12 then it will get alocated ram or memory witnin B12.\n",
    "B = np.zeros((5,4)) ## Return a new array of given shape and type, filled with zeros."
   ]
  },
  {
   "cell_type": "code",
   "execution_count": 14,
   "metadata": {},
   "outputs": [
    {
     "ename": "TypeError",
     "evalue": "data type not understood",
     "output_type": "error",
     "traceback": [
      "\u001b[1;31m---------------------------------------------------------------------------\u001b[0m",
      "\u001b[1;31mTypeError\u001b[0m                                 Traceback (most recent call last)",
      "\u001b[1;32m<ipython-input-14-f284947ec974>\u001b[0m in \u001b[0;36m<module>\u001b[1;34m\u001b[0m\n\u001b[0;32m      1\u001b[0m \u001b[1;31m### Common error while np.zero\u001b[0m\u001b[1;33m\u001b[0m\u001b[1;33m\u001b[0m\u001b[1;33m\u001b[0m\u001b[0m\n\u001b[1;32m----> 2\u001b[1;33m \u001b[0mnp\u001b[0m\u001b[1;33m.\u001b[0m\u001b[0mzeros\u001b[0m\u001b[1;33m(\u001b[0m\u001b[1;36m5\u001b[0m\u001b[1;33m,\u001b[0m\u001b[1;36m4\u001b[0m\u001b[1;33m)\u001b[0m \u001b[1;31m#### it takes shaoe in int or tupe of integers so we can either gice 20, or tuple(5,4)\u001b[0m\u001b[1;33m\u001b[0m\u001b[1;33m\u001b[0m\u001b[0m\n\u001b[0m",
      "\u001b[1;31mTypeError\u001b[0m: data type not understood"
     ]
    }
   ],
   "source": [
    "### Common error while np.zero\n",
    "np.zeros(5,4) #### it takes shaoe in int or tupe of integers so we can either gice 20, or tuple(5,4)"
   ]
  },
  {
   "cell_type": "code",
   "execution_count": 15,
   "metadata": {},
   "outputs": [
    {
     "name": "stdout",
     "output_type": "stream",
     "text": [
      "[[0. 0. 0. 0.]\n",
      " [0. 0. 0. 0.]\n",
      " [0. 0. 0. 0.]\n",
      " [0. 0. 0. 0.]\n",
      " [0. 0. 0. 0.]]\n",
      "(5, 4)\n",
      "<class 'numpy.ndarray'>\n"
     ]
    }
   ],
   "source": [
    "print(B)\n",
    "print(B.shape)\n",
    "print(type(B))"
   ]
  },
  {
   "cell_type": "code",
   "execution_count": 16,
   "metadata": {},
   "outputs": [
    {
     "name": "stdout",
     "output_type": "stream",
     "text": [
      "[[0.37370613 1.54780314 0.62246512 0.66572688]\n",
      " [1.34459147 1.0841973  1.3972169  0.24843575]\n",
      " [1.18114295 1.21113879 1.60824935 0.82180583]\n",
      " [1.25057348 0.87958127 0.03001071 0.99662568]\n",
      " [0.70973497 0.95302967 0.93166722 1.01475904]]\n"
     ]
    }
   ],
   "source": [
    "B12 = np.zeros((5,4))\n",
    "for i in range(r):\n",
    "    for j in range(c):\n",
    "        B12[i,j] = A1[i,j] + A2[i,j]\n",
    "print(B12)"
   ]
  },
  {
   "cell_type": "markdown",
   "metadata": {},
   "source": [
    "Time complexity -- for above O(rxc)\n",
    "https://medium.com/fintechexplained/time-complexities-of-python-data-structures-ddb7503790ef\n",
    "https://towardsdatascience.com/understanding-time-complexity-with-python-examples-2bda6e8158a7\n",
    "Space complexity  -- we are not counting input and output variable becuase these will be sue is most of the algorith\n",
    "and also we are using variable i,j,r,c and these are constant number are variables so space complexity is O(1) it means its is constant\n",
    "https://www.studytonight.com/data-structures/space-complexity-of-algorithms"
   ]
  },
  {
   "cell_type": "markdown",
   "metadata": {},
   "source": [
    "#### Problem2- Add two randomly generated Numpy matrics using loop having shape (i,j,k)"
   ]
  },
  {
   "cell_type": "code",
   "execution_count": 17,
   "metadata": {},
   "outputs": [
    {
     "name": "stdout",
     "output_type": "stream",
     "text": [
      "[[[0.28473478 0.45926118 0.70069167]\n",
      "  [0.12830522 0.96805773 0.35559431]\n",
      "  [0.32165373 0.31599596 0.91423717]\n",
      "  [0.44551682 0.40804737 0.61148373]]\n",
      "\n",
      " [[0.88564173 0.80536462 0.67042247]\n",
      "  [0.33358848 0.95099955 0.47782613]\n",
      "  [0.79041385 0.48284027 0.6387112 ]\n",
      "  [0.59819373 0.30063074 0.1260047 ]]\n",
      "\n",
      " [[0.88549347 0.9130611  0.17803596]\n",
      "  [0.43709825 0.43306024 0.2274859 ]\n",
      "  [0.54722853 0.20093175 0.4482139 ]\n",
      "  [0.81826578 0.03242577 0.11674702]]\n",
      "\n",
      " [[0.72223874 0.79411414 0.65676905]\n",
      "  [0.39052235 0.5287275  0.03542766]\n",
      "  [0.1962492  0.29159444 0.37387489]\n",
      "  [0.59201271 0.20158388 0.95347826]]\n",
      "\n",
      " [[0.91031606 0.24041722 0.88309426]\n",
      "  [0.96138799 0.16947598 0.06610262]\n",
      "  [0.94015986 0.74408801 0.23208257]\n",
      "  [0.14049583 0.00700068 0.14132412]]]\n",
      "<class 'numpy.ndarray'>\n",
      "(5, 4, 3)\n"
     ]
    }
   ],
   "source": [
    "C1 = np.random.rand(5,4,3)\n",
    "print(C1)\n",
    "print(type(C1))\n",
    "print(C1.shape)"
   ]
  },
  {
   "cell_type": "code",
   "execution_count": 18,
   "metadata": {},
   "outputs": [
    {
     "name": "stdout",
     "output_type": "stream",
     "text": [
      "[[[0.00697869 0.97305963 0.22988707]\n",
      "  [0.50729203 0.88534347 0.92345039]\n",
      "  [0.67273561 0.9189238  0.57844302]\n",
      "  [0.02566959 0.98033824 0.34592294]]\n",
      "\n",
      " [[0.7109668  0.03684416 0.67850825]\n",
      "  [0.08699613 0.35850867 0.23407748]\n",
      "  [0.39585668 0.59970612 0.69061715]\n",
      "  [0.64213058 0.31174716 0.06098371]]\n",
      "\n",
      " [[0.34406313 0.77827515 0.31664334]\n",
      "  [0.37424633 0.15818697 0.55737598]\n",
      "  [0.59102193 0.31067538 0.64359108]\n",
      "  [0.85116368 0.64595436 0.4428416 ]]\n",
      "\n",
      " [[0.62338523 0.59851113 0.01212844]\n",
      "  [0.50191213 0.1239009  0.22335628]\n",
      "  [0.84881228 0.46436619 0.33123731]\n",
      "  [0.14037891 0.84460144 0.2279739 ]]\n",
      "\n",
      " [[0.65137958 0.38536114 0.2212713 ]\n",
      "  [0.69084649 0.26872849 0.51937193]\n",
      "  [0.62378281 0.85335249 0.77734037]\n",
      "  [0.44568422 0.98102524 0.15583209]]]\n",
      "<class 'numpy.ndarray'>\n",
      "(5, 4, 3)\n"
     ]
    }
   ],
   "source": [
    "C2 = np.random.rand(5,4,3)\n",
    "print(C2)\n",
    "print(type(C2))\n",
    "print(C2.shape)"
   ]
  },
  {
   "cell_type": "code",
   "execution_count": 19,
   "metadata": {},
   "outputs": [],
   "source": [
    "# C[i,j,k] = C1[i,j,k]+C2[i,j,k]\n",
    "C = np.zeros((5,4,3))\n",
    "(c,r,t)=C.shape"
   ]
  },
  {
   "cell_type": "code",
   "execution_count": 20,
   "metadata": {},
   "outputs": [
    {
     "name": "stdout",
     "output_type": "stream",
     "text": [
      "5\n",
      "4\n",
      "3\n"
     ]
    }
   ],
   "source": [
    "print(c)\n",
    "print(r)\n",
    "print(t)"
   ]
  },
  {
   "cell_type": "code",
   "execution_count": 21,
   "metadata": {
    "scrolled": true
   },
   "outputs": [
    {
     "name": "stdout",
     "output_type": "stream",
     "text": [
      "[[[0.29171348 1.43232081 0.93057874]\n",
      "  [0.63559725 1.8534012  1.27904469]\n",
      "  [0.99438934 1.23491975 1.49268019]\n",
      "  [0.47118641 1.38838561 0.95740668]]\n",
      "\n",
      " [[1.59660853 0.84220878 1.34893072]\n",
      "  [0.42058461 1.30950822 0.71190361]\n",
      "  [1.18627053 1.08254639 1.32932835]\n",
      "  [1.24032431 0.61237789 0.18698841]]\n",
      "\n",
      " [[1.2295566  1.69133624 0.4946793 ]\n",
      "  [0.81134457 0.59124721 0.78486188]\n",
      "  [1.13825046 0.51160713 1.09180498]\n",
      "  [1.66942946 0.67838012 0.55958862]]\n",
      "\n",
      " [[1.34562397 1.39262527 0.66889749]\n",
      "  [0.89243448 0.6526284  0.25878394]\n",
      "  [1.04506148 0.75596063 0.70511219]\n",
      "  [0.73239162 1.04618532 1.18145216]]\n",
      "\n",
      " [[1.56169564 0.62577836 1.10436556]\n",
      "  [1.65223447 0.43820447 0.58547456]\n",
      "  [1.56394267 1.5974405  1.00942294]\n",
      "  [0.58618005 0.98802592 0.2971562 ]]]\n",
      "<class 'numpy.ndarray'>\n",
      "(5, 4, 3)\n"
     ]
    }
   ],
   "source": [
    "for i in range(c):\n",
    "    for j in range(r):\n",
    "        for k in range(t):\n",
    "            C[i,j,k] = C1[i,j,k]+C2[i,j,k]\n",
    "print(C)\n",
    "print(type(C))\n",
    "print(C.shape)"
   ]
  },
  {
   "cell_type": "markdown",
   "metadata": {},
   "source": [
    "#### Problem3- Find if an given point is inside or outside the circle"
   ]
  },
  {
   "cell_type": "markdown",
   "metadata": {},
   "source": [
    "First find the logic how to check the point comes inside or outside the circle\n",
    "Lets Ciccle had radius r and center point is Cx abd Cy. and point is Px and Py\n",
    "we can check the distnace between PxPy and CxCy and compare with radius r if distance between P and C is less than\n",
    "r than it is inside else outside"
   ]
  },
  {
   "cell_type": "code",
   "execution_count": 22,
   "metadata": {},
   "outputs": [
    {
     "name": "stdout",
     "output_type": "stream",
     "text": [
      "Enter Cx, Cy and r: 4 5 6\n",
      "4 5 6\n"
     ]
    }
   ],
   "source": [
    "# Now we need to find the code how can we enter the input value in python3\n",
    "Cx,Cy,r = input(\"Enter Cx, Cy and r: \").split()\n",
    "# or use below\n",
    "#Cx,Cy,r = map(float,input(\"Enter Cx, Cy and r: \").split())\n",
    "print(Cx,Cy,r)"
   ]
  },
  {
   "cell_type": "code",
   "execution_count": 23,
   "metadata": {},
   "outputs": [
    {
     "name": "stdout",
     "output_type": "stream",
     "text": [
      "4 5 6\n",
      "<class 'str'>\n",
      "<class 'str'>\n",
      "<class 'str'>\n"
     ]
    }
   ],
   "source": [
    "print(Cx,Cy,r)\n",
    "print(type(Cx))\n",
    "print(type(Cy))\n",
    "print(type(r))"
   ]
  },
  {
   "cell_type": "code",
   "execution_count": 24,
   "metadata": {},
   "outputs": [
    {
     "name": "stdout",
     "output_type": "stream",
     "text": [
      "Enter Input Px,Py : 5 6\n"
     ]
    }
   ],
   "source": [
    "# Now input value of that point P (Px,Py)\n",
    "Px,Py = input(\"Enter Input Px,Py : \").split()\n",
    "# or use below\n",
    "# Px,Py = map(float,input(\"Enter Input Px,Py : \").split())"
   ]
  },
  {
   "cell_type": "code",
   "execution_count": 26,
   "metadata": {},
   "outputs": [
    {
     "name": "stdout",
     "output_type": "stream",
     "text": [
      "5 6\n",
      "<class 'str'>\n",
      "<class 'str'>\n"
     ]
    }
   ],
   "source": [
    "print(Px,Py)\n",
    "print(type(Px))\n",
    "print(type(Py))"
   ]
  },
  {
   "cell_type": "code",
   "execution_count": 27,
   "metadata": {},
   "outputs": [
    {
     "ename": "TypeError",
     "evalue": "unsupported operand type(s) for -: 'str' and 'str'",
     "output_type": "error",
     "traceback": [
      "\u001b[1;31m---------------------------------------------------------------------------\u001b[0m",
      "\u001b[1;31mTypeError\u001b[0m                                 Traceback (most recent call last)",
      "\u001b[1;32m<ipython-input-27-99ed74b1ee2f>\u001b[0m in \u001b[0;36m<module>\u001b[1;34m\u001b[0m\n\u001b[0;32m      1\u001b[0m \u001b[1;31m# check P(Px,Py) lies in C\u001b[0m\u001b[1;33m\u001b[0m\u001b[1;33m\u001b[0m\u001b[1;33m\u001b[0m\u001b[0m\n\u001b[1;32m----> 2\u001b[1;33m \u001b[0md\u001b[0m \u001b[1;33m=\u001b[0m \u001b[1;33m(\u001b[0m\u001b[0mCx\u001b[0m\u001b[1;33m-\u001b[0m\u001b[0mPx\u001b[0m\u001b[1;33m)\u001b[0m\u001b[1;33m**\u001b[0m\u001b[1;36m2\u001b[0m \u001b[1;33m+\u001b[0m \u001b[1;33m(\u001b[0m\u001b[0mCy\u001b[0m\u001b[1;33m-\u001b[0m\u001b[0mPy\u001b[0m\u001b[1;33m)\u001b[0m\u001b[1;33m**\u001b[0m\u001b[1;36m2\u001b[0m\u001b[1;33m\u001b[0m\u001b[1;33m\u001b[0m\u001b[0m\n\u001b[0m",
      "\u001b[1;31mTypeError\u001b[0m: unsupported operand type(s) for -: 'str' and 'str'"
     ]
    }
   ],
   "source": [
    "# check P(Px,Py) lies in C\n",
    "d = (Cx-Px)**2 + (Cy-Py)**2 "
   ]
  },
  {
   "cell_type": "code",
   "execution_count": 28,
   "metadata": {},
   "outputs": [
    {
     "name": "stdout",
     "output_type": "stream",
     "text": [
      "4.0\n",
      "<class 'float'>\n"
     ]
    }
   ],
   "source": [
    "# we can see all the input value are in string and we cannot perform mathematical operation on string so\n",
    "# we have to convert them either integar or float\n",
    "Cx = float(Cx)\n",
    "print(Cx)\n",
    "print(type(Cx))\n",
    "\n",
    "Cy = float(Cy)\n",
    "r = float(r)\n",
    "Px = float(Px)\n",
    "Py = float(Py)"
   ]
  },
  {
   "cell_type": "code",
   "execution_count": 29,
   "metadata": {},
   "outputs": [],
   "source": [
    "import math"
   ]
  },
  {
   "cell_type": "code",
   "execution_count": 30,
   "metadata": {},
   "outputs": [
    {
     "name": "stdout",
     "output_type": "stream",
     "text": [
      "1.4142135623730951\n",
      "<class 'float'>\n"
     ]
    }
   ],
   "source": [
    "d = math.sqrt((Cx-Px)**2 + (Cy-Py)**2)\n",
    "print(d)\n",
    "print(type(d))"
   ]
  },
  {
   "cell_type": "code",
   "execution_count": 31,
   "metadata": {},
   "outputs": [
    {
     "name": "stdout",
     "output_type": "stream",
     "text": [
      "P lies inside the circle\n"
     ]
    }
   ],
   "source": [
    "if d > r:\n",
    "    print(\"P lies outside the circle\")\n",
    "else:\n",
    "    print(\"P lies inside the circle\")"
   ]
  },
  {
   "cell_type": "markdown",
   "metadata": {},
   "source": [
    "#### Problem4- Find if an given point is inside or outside the rectangle"
   ]
  },
  {
   "cell_type": "markdown",
   "metadata": {},
   "source": [
    "We need to find the logic first.\n",
    "As we know rectangle has the 4 lines and If we think lets it is available in XY 2D graph and then If we have \n",
    "Top left coordinate is (Rx1,Ry1) and bottom right coordinate is (Rx2,Ry2). let say point has coordinate (Px3,Py3).\n",
    "If Px lies inside the circle then It should be Rx1 < Px3 < Rx2 . If Py lies inside the circle then Ry1 > Py3 > Ry2\n",
    "So now we can say that P will be lied inside the rectangle if Rx1<Px3<Rx2 & Ry1>Py3>Ry2\n",
    "Now we have our logic ready so we need to convert our logic in code"
   ]
  },
  {
   "cell_type": "code",
   "execution_count": 1,
   "metadata": {},
   "outputs": [
    {
     "name": "stdout",
     "output_type": "stream",
     "text": [
      "Input the Rectangle Topright and bottom left value Rx1 Ry1 Rx2 Ry2 : 1 2 3 4\n"
     ]
    }
   ],
   "source": [
    "###### input value for Rx1,Rx2 and Ry1,Ry2\n",
    "Rx1,Ry1,Rx2,Ry2 = map(float,input(\"Input the Rectangle Topright and bottom left value Rx1 Ry1 Rx2 Ry2 : \").split())"
   ]
  },
  {
   "cell_type": "code",
   "execution_count": 2,
   "metadata": {},
   "outputs": [
    {
     "name": "stdout",
     "output_type": "stream",
     "text": [
      "Input value of point Px3 Py3 : 3 4\n"
     ]
    }
   ],
   "source": [
    "#####input value for Px3 Py3\n",
    "Px3,Py3 = map(float, input(\"Input value of point Px3 Py3 : \").split())"
   ]
  },
  {
   "cell_type": "code",
   "execution_count": 3,
   "metadata": {},
   "outputs": [
    {
     "name": "stdout",
     "output_type": "stream",
     "text": [
      "Point P does not lie inside the rectangle\n"
     ]
    }
   ],
   "source": [
    "# now we will use our logic to check the P value lie inside or not\n",
    "if Ry1 > Py3 > Ry2 and Rx1 < Px3 < Rx2:\n",
    "    print(\"Point P lie inside the rectangle\")\n",
    "else:\n",
    "    print(\"Point P does not lie inside the rectangle\")"
   ]
  },
  {
   "cell_type": "markdown",
   "metadata": {},
   "source": [
    "####  Numpy ndarray manupulation"
   ]
  },
  {
   "cell_type": "markdown",
   "metadata": {},
   "source": [
    "Most the common errors we get during below tasks\n",
    "1. reshape\n",
    "2. hstack\n",
    "3. vstack"
   ]
  },
  {
   "cell_type": "code",
   "execution_count": 4,
   "metadata": {},
   "outputs": [],
   "source": [
    "# let create a 5x4 random ndarray matrix\n",
    "import numpy as np\n",
    "A = np.random.rand(5,4)"
   ]
  },
  {
   "cell_type": "code",
   "execution_count": 5,
   "metadata": {},
   "outputs": [
    {
     "name": "stdout",
     "output_type": "stream",
     "text": [
      "[[0.83530511 0.295306   0.70936798 0.47022297]\n",
      " [0.69363216 0.33294733 0.50263619 0.16552641]\n",
      " [0.76239466 0.71349677 0.23553493 0.51674333]\n",
      " [0.40097746 0.06651848 0.10138855 0.49088978]\n",
      " [0.74274574 0.05390777 0.60049726 0.27948716]]\n",
      "<class 'numpy.ndarray'>\n",
      "(5, 4)\n"
     ]
    }
   ],
   "source": [
    "print(A)\n",
    "print(type(A))\n",
    "print(A.shape)"
   ]
  },
  {
   "cell_type": "code",
   "execution_count": 6,
   "metadata": {},
   "outputs": [
    {
     "name": "stdout",
     "output_type": "stream",
     "text": [
      "[0.83530511 0.69363216 0.76239466 0.40097746 0.74274574 0.295306\n",
      " 0.33294733 0.71349677 0.06651848 0.05390777 0.70936798 0.50263619\n",
      " 0.23553493 0.10138855 0.60049726 0.47022297 0.16552641 0.51674333\n",
      " 0.49088978 0.27948716]\n"
     ]
    }
   ],
   "source": [
    "# reshape this matrix into vector row major order-- vector means 1 row n columns and this is row vector\n",
    "# column vector like 1 column and n row\n",
    "B = A.reshape(20,order = 'F')\n",
    "print(B)"
   ]
  },
  {
   "cell_type": "code",
   "execution_count": 7,
   "metadata": {},
   "outputs": [
    {
     "name": "stdout",
     "output_type": "stream",
     "text": [
      "<class 'numpy.ndarray'>\n",
      "(20,)\n"
     ]
    }
   ],
   "source": [
    "print(type(B))\n",
    "print(B.shape)"
   ]
  },
  {
   "cell_type": "code",
   "execution_count": 8,
   "metadata": {},
   "outputs": [
    {
     "name": "stdout",
     "output_type": "stream",
     "text": [
      "[0.83530511 0.69363216 0.76239466 0.40097746 0.74274574 0.295306\n",
      " 0.33294733 0.71349677 0.06651848 0.05390777 0.70936798 0.50263619\n",
      " 0.23553493 0.10138855 0.60049726 0.47022297 0.16552641 0.51674333\n",
      " 0.49088978 0.27948716]\n",
      "<class 'numpy.ndarray'>\n",
      "(20,)\n"
     ]
    }
   ],
   "source": [
    "C = np.reshape(A,20,order = 'F')\n",
    "print(C)\n",
    "print(type(C))\n",
    "print(C.shape)"
   ]
  },
  {
   "cell_type": "code",
   "execution_count": 9,
   "metadata": {},
   "outputs": [
    {
     "name": "stdout",
     "output_type": "stream",
     "text": [
      "[[0.83530511]\n",
      " [0.69363216]\n",
      " [0.76239466]\n",
      " [0.40097746]\n",
      " [0.74274574]\n",
      " [0.295306  ]\n",
      " [0.33294733]\n",
      " [0.71349677]\n",
      " [0.06651848]\n",
      " [0.05390777]\n",
      " [0.70936798]\n",
      " [0.50263619]\n",
      " [0.23553493]\n",
      " [0.10138855]\n",
      " [0.60049726]\n",
      " [0.47022297]\n",
      " [0.16552641]\n",
      " [0.51674333]\n",
      " [0.49088978]\n",
      " [0.27948716]]\n",
      "<class 'numpy.ndarray'>\n",
      "(20, 1)\n"
     ]
    }
   ],
   "source": [
    "D = np.reshape(A,(20,1), order='F') ### column vector\n",
    "print(D)\n",
    "print(type(D))\n",
    "print(D.shape)"
   ]
  },
  {
   "cell_type": "code",
   "execution_count": 10,
   "metadata": {},
   "outputs": [
    {
     "name": "stdout",
     "output_type": "stream",
     "text": [
      "[[0.83530511 0.76239466 0.74274574 0.33294733 0.06651848 0.70936798\n",
      "  0.23553493 0.60049726 0.16552641 0.49088978]\n",
      " [0.69363216 0.40097746 0.295306   0.71349677 0.05390777 0.50263619\n",
      "  0.10138855 0.47022297 0.51674333 0.27948716]]\n",
      "<class 'numpy.ndarray'>\n",
      "(2, 10)\n"
     ]
    }
   ],
   "source": [
    "E = np.reshape(A,(2,-1),order = 'F')  \n",
    "## if we use -1 then -1 value will be replaced with value which will be same as like \n",
    "## A has shape 4x4 == 16total and rehsape we use 2,-1 then -1 will be lets x ( x * 2 =16, then x = 8  )\n",
    "print(E)\n",
    "print(type(E))\n",
    "print(E.shape)"
   ]
  },
  {
   "cell_type": "code",
   "execution_count": 11,
   "metadata": {},
   "outputs": [
    {
     "name": "stdout",
     "output_type": "stream",
     "text": [
      "[[0.83530511 0.295306   0.70936798 0.47022297 0.69363216 0.33294733\n",
      "  0.50263619 0.16552641 0.76239466 0.71349677]\n",
      " [0.23553493 0.51674333 0.40097746 0.06651848 0.10138855 0.49088978\n",
      "  0.74274574 0.05390777 0.60049726 0.27948716]]\n",
      "<class 'numpy.ndarray'>\n",
      "(2, 10)\n"
     ]
    }
   ],
   "source": [
    "F = np.reshape(A,(2,-1),order = 'C')  \n",
    "## if we use -1 then -1 value will be replaced with value which will be same as like \n",
    "## A has shape 4x4 == 16total and rehsape we use 2,-1 then -1 will be lets x ( x * 2 =16, then x = 8  )\n",
    "print(F)\n",
    "print(type(F))\n",
    "print(F.shape)"
   ]
  },
  {
   "cell_type": "code",
   "execution_count": 12,
   "metadata": {},
   "outputs": [
    {
     "name": "stdout",
     "output_type": "stream",
     "text": [
      "[[[0.87831797 0.55432363]\n",
      "  [0.42745116 0.43395348]\n",
      "  [0.8370183  0.18063568]\n",
      "  [0.23160175 0.32095555]]\n",
      "\n",
      " [[0.7098268  0.13321112]\n",
      "  [0.6556087  0.37569922]\n",
      "  [0.90786224 0.87366325]\n",
      "  [0.80349816 0.91923418]]\n",
      "\n",
      " [[0.68685461 0.33068304]\n",
      "  [0.91053173 0.48999916]\n",
      "  [0.38934101 0.73500923]\n",
      "  [0.19742301 0.209995  ]]]\n",
      "(3, 4, 2)\n",
      "<class 'numpy.ndarray'>\n"
     ]
    }
   ],
   "source": [
    "G = np.random.rand(3,4,2)\n",
    "print(G)\n",
    "print(G.shape)\n",
    "print(type(G))"
   ]
  },
  {
   "cell_type": "code",
   "execution_count": 13,
   "metadata": {},
   "outputs": [
    {
     "name": "stdout",
     "output_type": "stream",
     "text": [
      "[[0.87831797 0.55432363]\n",
      " [0.42745116 0.43395348]\n",
      " [0.8370183  0.18063568]\n",
      " [0.23160175 0.32095555]\n",
      " [0.7098268  0.13321112]\n",
      " [0.6556087  0.37569922]\n",
      " [0.90786224 0.87366325]\n",
      " [0.80349816 0.91923418]\n",
      " [0.68685461 0.33068304]\n",
      " [0.91053173 0.48999916]\n",
      " [0.38934101 0.73500923]\n",
      " [0.19742301 0.209995  ]]\n",
      "<class 'numpy.ndarray'>\n",
      "(12, 2)\n"
     ]
    }
   ],
   "source": [
    "H = np.reshape(G,(12,2),order = \"C\")\n",
    "print(H)\n",
    "print(type(H))\n",
    "print(H.shape)"
   ]
  },
  {
   "cell_type": "markdown",
   "metadata": {},
   "source": [
    "### Stacking"
   ]
  },
  {
   "cell_type": "code",
   "execution_count": 14,
   "metadata": {},
   "outputs": [
    {
     "name": "stdout",
     "output_type": "stream",
     "text": [
      "[[0.12459655 0.91409718 0.55360463 0.67110056]\n",
      " [0.07365894 0.45560919 0.50349155 0.46388016]\n",
      " [0.54338525 0.16707963 0.50537381 0.55811888]\n",
      " [0.24948347 0.25962368 0.29039427 0.29283507]\n",
      " [0.17454863 0.2711887  0.85824112 0.96447116]]\n"
     ]
    }
   ],
   "source": [
    "# Lets create 2 random ndarray\n",
    "A = np.random.rand(5,4)\n",
    "print(A)"
   ]
  },
  {
   "cell_type": "code",
   "execution_count": 16,
   "metadata": {},
   "outputs": [
    {
     "name": "stdout",
     "output_type": "stream",
     "text": [
      "[[0.32585651 0.75714856]\n",
      " [0.05953193 0.7465613 ]\n",
      " [0.00538318 0.72154423]\n",
      " [0.23075888 0.3222109 ]\n",
      " [0.09159711 0.19372137]]\n"
     ]
    }
   ],
   "source": [
    "B = np.random.rand(5,2)\n",
    "print(B)"
   ]
  },
  {
   "cell_type": "code",
   "execution_count": 18,
   "metadata": {},
   "outputs": [
    {
     "name": "stdout",
     "output_type": "stream",
     "text": [
      "[[0.12459655 0.91409718 0.55360463 0.67110056 0.32585651 0.75714856]\n",
      " [0.07365894 0.45560919 0.50349155 0.46388016 0.05953193 0.7465613 ]\n",
      " [0.54338525 0.16707963 0.50537381 0.55811888 0.00538318 0.72154423]\n",
      " [0.24948347 0.25962368 0.29039427 0.29283507 0.23075888 0.3222109 ]\n",
      " [0.17454863 0.2711887  0.85824112 0.96447116 0.09159711 0.19372137]]\n",
      "<class 'numpy.ndarray'>\n",
      "(5, 6)\n"
     ]
    }
   ],
   "source": [
    "AB = np.hstack((A,B)) ### stacking horozontally if you see row are same on both A and B\n",
    "print(AB)\n",
    "print(type(AB))\n",
    "print(AB.shape)\n"
   ]
  },
  {
   "cell_type": "code",
   "execution_count": 19,
   "metadata": {},
   "outputs": [
    {
     "ename": "ValueError",
     "evalue": "all the input array dimensions for the concatenation axis must match exactly, but along dimension 1, the array at index 0 has size 4 and the array at index 1 has size 2",
     "output_type": "error",
     "traceback": [
      "\u001b[1;31m---------------------------------------------------------------------------\u001b[0m",
      "\u001b[1;31mValueError\u001b[0m                                Traceback (most recent call last)",
      "\u001b[1;32m<ipython-input-19-0fe94cc106e1>\u001b[0m in \u001b[0;36m<module>\u001b[1;34m\u001b[0m\n\u001b[1;32m----> 1\u001b[1;33m \u001b[0mBA\u001b[0m \u001b[1;33m=\u001b[0m \u001b[0mnp\u001b[0m\u001b[1;33m.\u001b[0m\u001b[0mvstack\u001b[0m\u001b[1;33m(\u001b[0m\u001b[1;33m(\u001b[0m\u001b[0mA\u001b[0m\u001b[1;33m,\u001b[0m\u001b[0mB\u001b[0m\u001b[1;33m)\u001b[0m\u001b[1;33m)\u001b[0m \u001b[1;31m## we cannot vstack becuase total column are not same\u001b[0m\u001b[1;33m\u001b[0m\u001b[1;33m\u001b[0m\u001b[0m\n\u001b[0m",
      "\u001b[1;32m<__array_function__ internals>\u001b[0m in \u001b[0;36mvstack\u001b[1;34m(*args, **kwargs)\u001b[0m\n",
      "\u001b[1;32mC:\\ProgramData\\Anaconda3\\lib\\site-packages\\numpy\\core\\shape_base.py\u001b[0m in \u001b[0;36mvstack\u001b[1;34m(tup)\u001b[0m\n\u001b[0;32m    280\u001b[0m     \u001b[1;32mif\u001b[0m \u001b[1;32mnot\u001b[0m \u001b[0misinstance\u001b[0m\u001b[1;33m(\u001b[0m\u001b[0marrs\u001b[0m\u001b[1;33m,\u001b[0m \u001b[0mlist\u001b[0m\u001b[1;33m)\u001b[0m\u001b[1;33m:\u001b[0m\u001b[1;33m\u001b[0m\u001b[1;33m\u001b[0m\u001b[0m\n\u001b[0;32m    281\u001b[0m         \u001b[0marrs\u001b[0m \u001b[1;33m=\u001b[0m \u001b[1;33m[\u001b[0m\u001b[0marrs\u001b[0m\u001b[1;33m]\u001b[0m\u001b[1;33m\u001b[0m\u001b[1;33m\u001b[0m\u001b[0m\n\u001b[1;32m--> 282\u001b[1;33m     \u001b[1;32mreturn\u001b[0m \u001b[0m_nx\u001b[0m\u001b[1;33m.\u001b[0m\u001b[0mconcatenate\u001b[0m\u001b[1;33m(\u001b[0m\u001b[0marrs\u001b[0m\u001b[1;33m,\u001b[0m \u001b[1;36m0\u001b[0m\u001b[1;33m)\u001b[0m\u001b[1;33m\u001b[0m\u001b[1;33m\u001b[0m\u001b[0m\n\u001b[0m\u001b[0;32m    283\u001b[0m \u001b[1;33m\u001b[0m\u001b[0m\n\u001b[0;32m    284\u001b[0m \u001b[1;33m\u001b[0m\u001b[0m\n",
      "\u001b[1;32m<__array_function__ internals>\u001b[0m in \u001b[0;36mconcatenate\u001b[1;34m(*args, **kwargs)\u001b[0m\n",
      "\u001b[1;31mValueError\u001b[0m: all the input array dimensions for the concatenation axis must match exactly, but along dimension 1, the array at index 0 has size 4 and the array at index 1 has size 2"
     ]
    }
   ],
   "source": [
    "BA = np.vstack((A,B)) ## we cannot vstack becuase total column are not same"
   ]
  },
  {
   "cell_type": "code",
   "execution_count": 20,
   "metadata": {},
   "outputs": [
    {
     "name": "stdout",
     "output_type": "stream",
     "text": [
      "[[0.18437299 0.85817799 0.96888313 0.71944057]\n",
      " [0.63660682 0.13629281 0.89092503 0.24898565]\n",
      " [0.6668177  0.51469552 0.6066066  0.2006204 ]\n",
      " [0.32699488 0.76695881 0.22716185 0.1778831 ]\n",
      " [0.54940513 0.75074074 0.17597109 0.24631769]\n",
      " [0.65944512 0.60018931 0.40570026 0.03102356]\n",
      " [0.51258787 0.49418395 0.32823831 0.84137496]\n",
      " [0.41032691 0.27401178 0.3324458  0.1773721 ]]\n",
      "(8, 4)\n"
     ]
    }
   ],
   "source": [
    "C = np.random.rand(5,4)  ### total columns are same .. Vertically stacking\n",
    "D = np.random.rand(3,4)\n",
    "CD = np.vstack((C,D))\n",
    "print(CD)\n",
    "print(CD.shape)"
   ]
  },
  {
   "cell_type": "code",
   "execution_count": 1,
   "metadata": {},
   "outputs": [],
   "source": [
    "import numpy as np"
   ]
  },
  {
   "cell_type": "code",
   "execution_count": 2,
   "metadata": {},
   "outputs": [
    {
     "name": "stdout",
     "output_type": "stream",
     "text": [
      "[[[0.30004075 0.0023515  0.87075018]\n",
      "  [0.07800703 0.16212401 0.32026226]\n",
      "  [0.90878319 0.62638163 0.64216792]\n",
      "  [0.52972859 0.24432604 0.72515382]\n",
      "  [0.01556475 0.05791419 0.23752819]\n",
      "  [0.64607228 0.79344656 0.45262142]]\n",
      "\n",
      " [[0.80579483 0.84375051 0.21461966]\n",
      "  [0.37925888 0.33643549 0.13990556]\n",
      "  [0.26973101 0.63587763 0.411129  ]\n",
      "  [0.8993325  0.89613554 0.51360461]\n",
      "  [0.46831577 0.10595789 0.06088683]\n",
      "  [0.52260335 0.95513124 0.96089996]]\n",
      "\n",
      " [[0.75359071 0.96156712 0.16184309]\n",
      "  [0.16176842 0.7321692  0.53769005]\n",
      "  [0.06299379 0.34468488 0.35437394]\n",
      "  [0.93680838 0.69595856 0.19328802]\n",
      "  [0.38869081 0.72430942 0.2954752 ]\n",
      "  [0.04949663 0.65589878 0.77155763]]\n",
      "\n",
      " [[0.64238647 0.47718491 0.35700987]\n",
      "  [0.28741891 0.6023703  0.03615846]\n",
      "  [0.25750329 0.01717494 0.76708871]\n",
      "  [0.346028   0.00306327 0.80288623]\n",
      "  [0.18854845 0.22739634 0.83971111]\n",
      "  [0.14009337 0.36098582 0.99720911]]\n",
      "\n",
      " [[0.14576949 0.01913776 0.67776653]\n",
      "  [0.0346728  0.60573812 0.78649857]\n",
      "  [0.01107887 0.14625836 0.54415583]\n",
      "  [0.38901075 0.38419828 0.97511442]\n",
      "  [0.77525458 0.30937611 0.9576568 ]\n",
      "  [0.39256267 0.21272597 0.85033671]]]\n",
      "(5, 6, 3)\n"
     ]
    }
   ],
   "source": [
    "# Now we will see how we can do 3D (tensors) stacking\n",
    "E = np.random.rand(5,4,3)\n",
    "F = np.random.rand(5,2,3)\n",
    "EF = np.hstack((E,F))\n",
    "print(EF)\n",
    "print(EF.shape)"
   ]
  },
  {
   "cell_type": "code",
   "execution_count": 5,
   "metadata": {},
   "outputs": [
    {
     "ename": "ValueError",
     "evalue": "all the input array dimensions for the concatenation axis must match exactly, but along dimension 2, the array at index 0 has size 3 and the array at index 1 has size 2",
     "output_type": "error",
     "traceback": [
      "\u001b[1;31m---------------------------------------------------------------------------\u001b[0m",
      "\u001b[1;31mValueError\u001b[0m                                Traceback (most recent call last)",
      "\u001b[1;32m<ipython-input-5-a59e0b52bba0>\u001b[0m in \u001b[0;36m<module>\u001b[1;34m\u001b[0m\n\u001b[0;32m      2\u001b[0m \u001b[0mG\u001b[0m \u001b[1;33m=\u001b[0m \u001b[0mnp\u001b[0m\u001b[1;33m.\u001b[0m\u001b[0mrandom\u001b[0m\u001b[1;33m.\u001b[0m\u001b[0mrand\u001b[0m\u001b[1;33m(\u001b[0m\u001b[1;36m3\u001b[0m\u001b[1;33m,\u001b[0m\u001b[1;36m4\u001b[0m\u001b[1;33m,\u001b[0m\u001b[1;36m3\u001b[0m\u001b[1;33m)\u001b[0m\u001b[1;33m\u001b[0m\u001b[1;33m\u001b[0m\u001b[0m\n\u001b[0;32m      3\u001b[0m \u001b[0mH\u001b[0m \u001b[1;33m=\u001b[0m \u001b[0mnp\u001b[0m\u001b[1;33m.\u001b[0m\u001b[0mrandom\u001b[0m\u001b[1;33m.\u001b[0m\u001b[0mrand\u001b[0m\u001b[1;33m(\u001b[0m\u001b[1;36m2\u001b[0m\u001b[1;33m,\u001b[0m\u001b[1;36m4\u001b[0m\u001b[1;33m,\u001b[0m\u001b[1;36m2\u001b[0m\u001b[1;33m)\u001b[0m\u001b[1;33m\u001b[0m\u001b[1;33m\u001b[0m\u001b[0m\n\u001b[1;32m----> 4\u001b[1;33m \u001b[0mGH\u001b[0m \u001b[1;33m=\u001b[0m \u001b[0mnp\u001b[0m\u001b[1;33m.\u001b[0m\u001b[0mvstack\u001b[0m\u001b[1;33m(\u001b[0m\u001b[1;33m(\u001b[0m\u001b[0mG\u001b[0m\u001b[1;33m,\u001b[0m\u001b[0mH\u001b[0m\u001b[1;33m)\u001b[0m\u001b[1;33m)\u001b[0m\u001b[1;33m\u001b[0m\u001b[1;33m\u001b[0m\u001b[0m\n\u001b[0m\u001b[0;32m      5\u001b[0m \u001b[0mprint\u001b[0m\u001b[1;33m(\u001b[0m\u001b[0mGH\u001b[0m\u001b[1;33m)\u001b[0m\u001b[1;33m\u001b[0m\u001b[1;33m\u001b[0m\u001b[0m\n\u001b[0;32m      6\u001b[0m \u001b[0mprint\u001b[0m\u001b[1;33m(\u001b[0m\u001b[0mGH\u001b[0m\u001b[1;33m.\u001b[0m\u001b[0mshape\u001b[0m\u001b[1;33m)\u001b[0m\u001b[1;33m\u001b[0m\u001b[1;33m\u001b[0m\u001b[0m\n",
      "\u001b[1;32m<__array_function__ internals>\u001b[0m in \u001b[0;36mvstack\u001b[1;34m(*args, **kwargs)\u001b[0m\n",
      "\u001b[1;32mC:\\ProgramData\\Anaconda3\\lib\\site-packages\\numpy\\core\\shape_base.py\u001b[0m in \u001b[0;36mvstack\u001b[1;34m(tup)\u001b[0m\n\u001b[0;32m    280\u001b[0m     \u001b[1;32mif\u001b[0m \u001b[1;32mnot\u001b[0m \u001b[0misinstance\u001b[0m\u001b[1;33m(\u001b[0m\u001b[0marrs\u001b[0m\u001b[1;33m,\u001b[0m \u001b[0mlist\u001b[0m\u001b[1;33m)\u001b[0m\u001b[1;33m:\u001b[0m\u001b[1;33m\u001b[0m\u001b[1;33m\u001b[0m\u001b[0m\n\u001b[0;32m    281\u001b[0m         \u001b[0marrs\u001b[0m \u001b[1;33m=\u001b[0m \u001b[1;33m[\u001b[0m\u001b[0marrs\u001b[0m\u001b[1;33m]\u001b[0m\u001b[1;33m\u001b[0m\u001b[1;33m\u001b[0m\u001b[0m\n\u001b[1;32m--> 282\u001b[1;33m     \u001b[1;32mreturn\u001b[0m \u001b[0m_nx\u001b[0m\u001b[1;33m.\u001b[0m\u001b[0mconcatenate\u001b[0m\u001b[1;33m(\u001b[0m\u001b[0marrs\u001b[0m\u001b[1;33m,\u001b[0m \u001b[1;36m0\u001b[0m\u001b[1;33m)\u001b[0m\u001b[1;33m\u001b[0m\u001b[1;33m\u001b[0m\u001b[0m\n\u001b[0m\u001b[0;32m    283\u001b[0m \u001b[1;33m\u001b[0m\u001b[0m\n\u001b[0;32m    284\u001b[0m \u001b[1;33m\u001b[0m\u001b[0m\n",
      "\u001b[1;32m<__array_function__ internals>\u001b[0m in \u001b[0;36mconcatenate\u001b[1;34m(*args, **kwargs)\u001b[0m\n",
      "\u001b[1;31mValueError\u001b[0m: all the input array dimensions for the concatenation axis must match exactly, but along dimension 2, the array at index 0 has size 3 and the array at index 1 has size 2"
     ]
    }
   ],
   "source": [
    "# for vstack column and width should be same\n",
    "G = np.random.rand(3,4,3)\n",
    "H = np.random.rand(2,4,2)\n",
    "GH = np.vstack((G,H))\n",
    "print(GH)\n",
    "print(GH.shape)"
   ]
  },
  {
   "cell_type": "code",
   "execution_count": 7,
   "metadata": {},
   "outputs": [
    {
     "name": "stdout",
     "output_type": "stream",
     "text": [
      "[[[0.65550855 0.58289666]\n",
      "  [0.78002693 0.02947154]\n",
      "  [0.10943494 0.42620084]\n",
      "  [0.57943855 0.68420582]]\n",
      "\n",
      " [[0.9973478  0.66530823]\n",
      "  [0.50182606 0.31627897]\n",
      "  [0.40200032 0.72455601]\n",
      "  [0.72901163 0.68359589]]\n",
      "\n",
      " [[0.47692423 0.10001541]\n",
      "  [0.40650889 0.44551758]\n",
      "  [0.50504602 0.51670698]\n",
      "  [0.48328588 0.31466084]]\n",
      "\n",
      " [[0.52182872 0.78862102]\n",
      "  [0.27186683 0.85012875]\n",
      "  [0.69278132 0.42046396]\n",
      "  [0.5617193  0.8699445 ]]\n",
      "\n",
      " [[0.48469143 0.93613286]\n",
      "  [0.18180654 0.17079934]\n",
      "  [0.21561994 0.31124333]\n",
      "  [0.00422132 0.89809366]]]\n",
      "(5, 4, 2)\n"
     ]
    }
   ],
   "source": [
    "# for vstack column and width should be same\n",
    "I = np.random.rand(3,4,2)\n",
    "J = np.random.rand(2,4,2)\n",
    "IJ = np.vstack((I,J))\n",
    "print(IJ)\n",
    "print(IJ.shape)"
   ]
  },
  {
   "cell_type": "code",
   "execution_count": 8,
   "metadata": {},
   "outputs": [
    {
     "ename": "ValueError",
     "evalue": "all the input array dimensions for the concatenation axis must match exactly, but along dimension 2, the array at index 0 has size 2 and the array at index 1 has size 1",
     "output_type": "error",
     "traceback": [
      "\u001b[1;31m---------------------------------------------------------------------------\u001b[0m",
      "\u001b[1;31mValueError\u001b[0m                                Traceback (most recent call last)",
      "\u001b[1;32m<ipython-input-8-4f50b5b74f73>\u001b[0m in \u001b[0;36m<module>\u001b[1;34m\u001b[0m\n\u001b[0;32m      2\u001b[0m \u001b[0mK\u001b[0m \u001b[1;33m=\u001b[0m \u001b[0mnp\u001b[0m\u001b[1;33m.\u001b[0m\u001b[0mrandom\u001b[0m\u001b[1;33m.\u001b[0m\u001b[0mrand\u001b[0m\u001b[1;33m(\u001b[0m\u001b[1;36m3\u001b[0m\u001b[1;33m,\u001b[0m\u001b[1;36m4\u001b[0m\u001b[1;33m,\u001b[0m\u001b[1;36m2\u001b[0m\u001b[1;33m)\u001b[0m\u001b[1;33m\u001b[0m\u001b[1;33m\u001b[0m\u001b[0m\n\u001b[0;32m      3\u001b[0m \u001b[0mL\u001b[0m \u001b[1;33m=\u001b[0m \u001b[0mnp\u001b[0m\u001b[1;33m.\u001b[0m\u001b[0mrandom\u001b[0m\u001b[1;33m.\u001b[0m\u001b[0mrand\u001b[0m\u001b[1;33m(\u001b[0m\u001b[1;36m3\u001b[0m\u001b[1;33m,\u001b[0m\u001b[1;36m4\u001b[0m\u001b[1;33m,\u001b[0m\u001b[1;36m1\u001b[0m\u001b[1;33m)\u001b[0m\u001b[1;33m\u001b[0m\u001b[1;33m\u001b[0m\u001b[0m\n\u001b[1;32m----> 4\u001b[1;33m \u001b[0mKL\u001b[0m \u001b[1;33m=\u001b[0m \u001b[0mnp\u001b[0m\u001b[1;33m.\u001b[0m\u001b[0mhstack\u001b[0m\u001b[1;33m(\u001b[0m\u001b[1;33m(\u001b[0m\u001b[0mK\u001b[0m\u001b[1;33m,\u001b[0m\u001b[0mL\u001b[0m\u001b[1;33m)\u001b[0m\u001b[1;33m)\u001b[0m\u001b[1;33m\u001b[0m\u001b[1;33m\u001b[0m\u001b[0m\n\u001b[0m\u001b[0;32m      5\u001b[0m \u001b[0mprint\u001b[0m\u001b[1;33m(\u001b[0m\u001b[0mKL\u001b[0m\u001b[1;33m)\u001b[0m\u001b[1;33m\u001b[0m\u001b[1;33m\u001b[0m\u001b[0m\n\u001b[0;32m      6\u001b[0m \u001b[0mprint\u001b[0m\u001b[1;33m(\u001b[0m\u001b[0mKL\u001b[0m\u001b[1;33m.\u001b[0m\u001b[0mshape\u001b[0m\u001b[1;33m)\u001b[0m\u001b[1;33m\u001b[0m\u001b[1;33m\u001b[0m\u001b[0m\n",
      "\u001b[1;32m<__array_function__ internals>\u001b[0m in \u001b[0;36mhstack\u001b[1;34m(*args, **kwargs)\u001b[0m\n",
      "\u001b[1;32mC:\\ProgramData\\Anaconda3\\lib\\site-packages\\numpy\\core\\shape_base.py\u001b[0m in \u001b[0;36mhstack\u001b[1;34m(tup)\u001b[0m\n\u001b[0;32m    342\u001b[0m         \u001b[1;32mreturn\u001b[0m \u001b[0m_nx\u001b[0m\u001b[1;33m.\u001b[0m\u001b[0mconcatenate\u001b[0m\u001b[1;33m(\u001b[0m\u001b[0marrs\u001b[0m\u001b[1;33m,\u001b[0m \u001b[1;36m0\u001b[0m\u001b[1;33m)\u001b[0m\u001b[1;33m\u001b[0m\u001b[1;33m\u001b[0m\u001b[0m\n\u001b[0;32m    343\u001b[0m     \u001b[1;32melse\u001b[0m\u001b[1;33m:\u001b[0m\u001b[1;33m\u001b[0m\u001b[1;33m\u001b[0m\u001b[0m\n\u001b[1;32m--> 344\u001b[1;33m         \u001b[1;32mreturn\u001b[0m \u001b[0m_nx\u001b[0m\u001b[1;33m.\u001b[0m\u001b[0mconcatenate\u001b[0m\u001b[1;33m(\u001b[0m\u001b[0marrs\u001b[0m\u001b[1;33m,\u001b[0m \u001b[1;36m1\u001b[0m\u001b[1;33m)\u001b[0m\u001b[1;33m\u001b[0m\u001b[1;33m\u001b[0m\u001b[0m\n\u001b[0m\u001b[0;32m    345\u001b[0m \u001b[1;33m\u001b[0m\u001b[0m\n\u001b[0;32m    346\u001b[0m \u001b[1;33m\u001b[0m\u001b[0m\n",
      "\u001b[1;32m<__array_function__ internals>\u001b[0m in \u001b[0;36mconcatenate\u001b[1;34m(*args, **kwargs)\u001b[0m\n",
      "\u001b[1;31mValueError\u001b[0m: all the input array dimensions for the concatenation axis must match exactly, but along dimension 2, the array at index 0 has size 2 and the array at index 1 has size 1"
     ]
    }
   ],
   "source": [
    "# for vstack column and width should be same.. in all case width should be same with either Row or column\n",
    "K = np.random.rand(3,4,2)\n",
    "L = np.random.rand(3,4,1)\n",
    "KL = np.hstack((K,L))\n",
    "print(KL)\n",
    "print(KL.shape)"
   ]
  },
  {
   "cell_type": "code",
   "execution_count": 9,
   "metadata": {},
   "outputs": [
    {
     "ename": "ValueError",
     "evalue": "all the input array dimensions for the concatenation axis must match exactly, but along dimension 2, the array at index 0 has size 2 and the array at index 1 has size 1",
     "output_type": "error",
     "traceback": [
      "\u001b[1;31m---------------------------------------------------------------------------\u001b[0m",
      "\u001b[1;31mValueError\u001b[0m                                Traceback (most recent call last)",
      "\u001b[1;32m<ipython-input-9-a2001e65ff08>\u001b[0m in \u001b[0;36m<module>\u001b[1;34m\u001b[0m\n\u001b[0;32m      2\u001b[0m \u001b[0mK\u001b[0m \u001b[1;33m=\u001b[0m \u001b[0mnp\u001b[0m\u001b[1;33m.\u001b[0m\u001b[0mrandom\u001b[0m\u001b[1;33m.\u001b[0m\u001b[0mrand\u001b[0m\u001b[1;33m(\u001b[0m\u001b[1;36m3\u001b[0m\u001b[1;33m,\u001b[0m\u001b[1;36m4\u001b[0m\u001b[1;33m,\u001b[0m\u001b[1;36m2\u001b[0m\u001b[1;33m)\u001b[0m\u001b[1;33m\u001b[0m\u001b[1;33m\u001b[0m\u001b[0m\n\u001b[0;32m      3\u001b[0m \u001b[0mL\u001b[0m \u001b[1;33m=\u001b[0m \u001b[0mnp\u001b[0m\u001b[1;33m.\u001b[0m\u001b[0mrandom\u001b[0m\u001b[1;33m.\u001b[0m\u001b[0mrand\u001b[0m\u001b[1;33m(\u001b[0m\u001b[1;36m3\u001b[0m\u001b[1;33m,\u001b[0m\u001b[1;36m4\u001b[0m\u001b[1;33m,\u001b[0m\u001b[1;36m1\u001b[0m\u001b[1;33m)\u001b[0m\u001b[1;33m\u001b[0m\u001b[1;33m\u001b[0m\u001b[0m\n\u001b[1;32m----> 4\u001b[1;33m \u001b[0mKL\u001b[0m \u001b[1;33m=\u001b[0m \u001b[0mnp\u001b[0m\u001b[1;33m.\u001b[0m\u001b[0mvstack\u001b[0m\u001b[1;33m(\u001b[0m\u001b[1;33m(\u001b[0m\u001b[0mK\u001b[0m\u001b[1;33m,\u001b[0m\u001b[0mL\u001b[0m\u001b[1;33m)\u001b[0m\u001b[1;33m)\u001b[0m\u001b[1;33m\u001b[0m\u001b[1;33m\u001b[0m\u001b[0m\n\u001b[0m\u001b[0;32m      5\u001b[0m \u001b[0mprint\u001b[0m\u001b[1;33m(\u001b[0m\u001b[0mKL\u001b[0m\u001b[1;33m)\u001b[0m\u001b[1;33m\u001b[0m\u001b[1;33m\u001b[0m\u001b[0m\n\u001b[0;32m      6\u001b[0m \u001b[0mprint\u001b[0m\u001b[1;33m(\u001b[0m\u001b[0mKL\u001b[0m\u001b[1;33m.\u001b[0m\u001b[0mshape\u001b[0m\u001b[1;33m)\u001b[0m\u001b[1;33m\u001b[0m\u001b[1;33m\u001b[0m\u001b[0m\n",
      "\u001b[1;32m<__array_function__ internals>\u001b[0m in \u001b[0;36mvstack\u001b[1;34m(*args, **kwargs)\u001b[0m\n",
      "\u001b[1;32mC:\\ProgramData\\Anaconda3\\lib\\site-packages\\numpy\\core\\shape_base.py\u001b[0m in \u001b[0;36mvstack\u001b[1;34m(tup)\u001b[0m\n\u001b[0;32m    280\u001b[0m     \u001b[1;32mif\u001b[0m \u001b[1;32mnot\u001b[0m \u001b[0misinstance\u001b[0m\u001b[1;33m(\u001b[0m\u001b[0marrs\u001b[0m\u001b[1;33m,\u001b[0m \u001b[0mlist\u001b[0m\u001b[1;33m)\u001b[0m\u001b[1;33m:\u001b[0m\u001b[1;33m\u001b[0m\u001b[1;33m\u001b[0m\u001b[0m\n\u001b[0;32m    281\u001b[0m         \u001b[0marrs\u001b[0m \u001b[1;33m=\u001b[0m \u001b[1;33m[\u001b[0m\u001b[0marrs\u001b[0m\u001b[1;33m]\u001b[0m\u001b[1;33m\u001b[0m\u001b[1;33m\u001b[0m\u001b[0m\n\u001b[1;32m--> 282\u001b[1;33m     \u001b[1;32mreturn\u001b[0m \u001b[0m_nx\u001b[0m\u001b[1;33m.\u001b[0m\u001b[0mconcatenate\u001b[0m\u001b[1;33m(\u001b[0m\u001b[0marrs\u001b[0m\u001b[1;33m,\u001b[0m \u001b[1;36m0\u001b[0m\u001b[1;33m)\u001b[0m\u001b[1;33m\u001b[0m\u001b[1;33m\u001b[0m\u001b[0m\n\u001b[0m\u001b[0;32m    283\u001b[0m \u001b[1;33m\u001b[0m\u001b[0m\n\u001b[0;32m    284\u001b[0m \u001b[1;33m\u001b[0m\u001b[0m\n",
      "\u001b[1;32m<__array_function__ internals>\u001b[0m in \u001b[0;36mconcatenate\u001b[1;34m(*args, **kwargs)\u001b[0m\n",
      "\u001b[1;31mValueError\u001b[0m: all the input array dimensions for the concatenation axis must match exactly, but along dimension 2, the array at index 0 has size 2 and the array at index 1 has size 1"
     ]
    }
   ],
   "source": [
    "# for vstack column and width should be same.. in all case width should be same with either Row or column\n",
    "K = np.random.rand(3,4,2)\n",
    "L = np.random.rand(3,4,1)\n",
    "KL = np.vstack((K,L))\n",
    "print(KL)\n",
    "print(KL.shape)"
   ]
  }
 ],
 "metadata": {
  "kernelspec": {
   "display_name": "Python 3",
   "language": "python",
   "name": "python3"
  },
  "language_info": {
   "codemirror_mode": {
    "name": "ipython",
    "version": 3
   },
   "file_extension": ".py",
   "mimetype": "text/x-python",
   "name": "python",
   "nbconvert_exporter": "python",
   "pygments_lexer": "ipython3",
   "version": "3.7.6"
  }
 },
 "nbformat": 4,
 "nbformat_minor": 2
}
